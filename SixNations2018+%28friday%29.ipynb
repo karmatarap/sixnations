{
 "cells": [
  {
   "cell_type": "markdown",
   "metadata": {},
   "source": [
    "# Six Nations 2018 prediction"
   ]
  },
  {
   "cell_type": "markdown",
   "metadata": {},
   "source": [
    "The goal of this analysis will be to predict team scores for a given fixture."
   ]
  },
  {
   "cell_type": "markdown",
   "metadata": {},
   "source": [
    "## Data Collection"
   ]
  },
  {
   "cell_type": "markdown",
   "metadata": {},
   "source": [
    "Data taken from stats.espnscrum.com/statsguru. We will start by looking only at team data from the last 4 years(2014-2018) for six nations teams. Once we have a model up and running, we may look at using additional data. \n",
    "\n",
    "We first define a base url from the url of a desirable query result. Here we have to iterate through the desired teams."
   ]
  },
  {
   "cell_type": "code",
   "execution_count": 180,
   "metadata": {
    "collapsed": true
   },
   "outputs": [],
   "source": [
    "base_url = 'http://stats.espnscrum.com/statsguru/rugby/stats/index.html?class=1;orderby=date;orderbyad=reverse;spanmax2=31+Jan+2019;spanmin2=31+Jan+2014;spanval2=span;team={};template=results;type=team;view=match'"
   ]
  },
  {
   "cell_type": "markdown",
   "metadata": {
    "collapsed": true
   },
   "source": [
    "Data of interest appeared to be stored in the third table of the page."
   ]
  },
  {
   "cell_type": "code",
   "execution_count": 181,
   "metadata": {
    "collapsed": true
   },
   "outputs": [],
   "source": [
    "import urllib.request\n",
    "import pandas as pd\n",
    "from bs4 import BeautifulSoup\n",
    "\n",
    "class HTMLTableParser:\n",
    "\n",
    "    def parse_url(self, url):\n",
    "        with urllib.request.urlopen(url) as response:\n",
    "            page = response.read()\n",
    "        soup = BeautifulSoup(page, 'lxml')\n",
    "        #Rugby data on table 3\n",
    "        return self.parse_html_table(soup.find_all('table')[3])\n",
    "\n",
    "    def parse_html_table(self, table):\n",
    "        n_columns = 0\n",
    "        n_rows=0\n",
    "        column_names = []\n",
    "\n",
    "        # Find number of rows and columns\n",
    "        # we also find the column titles if we can\n",
    "        for row in table.find_all('tr'):\n",
    "\n",
    "            # Determine the number of rows in the table\n",
    "            td_tags = row.find_all('td')\n",
    "            if len(td_tags) > 0:\n",
    "                n_rows+=1\n",
    "                if n_columns == 0:\n",
    "                    # Set the number of columns for our table\n",
    "                    n_columns = len(td_tags)\n",
    "\n",
    "            # Handle column names if we find them\n",
    "            th_tags = row.find_all('th') \n",
    "            if len(th_tags) > 0 and len(column_names) == 0:\n",
    "                for th in th_tags:\n",
    "                    column_names.append(th.get_text())\n",
    "\n",
    "        # Safeguard on Column Titles\n",
    "        if len(column_names) > 0 and len(column_names) != n_columns:\n",
    "            raise Exception(\"Column titles do not match the number of columns\")\n",
    "\n",
    "        columns = column_names if len(column_names) > 0 else range(0,n_columns)\n",
    "        df = pd.DataFrame(columns = columns,\n",
    "                          index= range(0,n_rows))\n",
    "        row_marker = 0\n",
    "        for row in table.find_all('tr'):\n",
    "            column_marker = 0\n",
    "            columns = row.find_all('td')\n",
    "            for column in columns:\n",
    "                df.iloc[row_marker,column_marker] = column.get_text()\n",
    "                column_marker += 1\n",
    "            if len(columns) > 0:\n",
    "                row_marker += 1\n",
    "\n",
    "        # Convert to float if possible\n",
    "        for col in df:\n",
    "            try:\n",
    "                df[col] = df[col].astype(float)\n",
    "            except ValueError:\n",
    "                pass\n",
    "\n",
    "        return df"
   ]
  },
  {
   "cell_type": "code",
   "execution_count": 182,
   "metadata": {},
   "outputs": [
    {
     "name": "stdout",
     "output_type": "stream",
     "text": [
      "<class 'pandas.core.frame.DataFrame'>\n",
      "<class 'pandas.core.frame.DataFrame'>\n",
      "<class 'pandas.core.frame.DataFrame'>\n",
      "<class 'pandas.core.frame.DataFrame'>\n",
      "<class 'pandas.core.frame.DataFrame'>\n",
      "<class 'pandas.core.frame.DataFrame'>\n"
     ]
    }
   ],
   "source": [
    "hp = HTMLTableParser()\n",
    "\n",
    "team_ids = (1,2,3,4,9,20)\n",
    "\n",
    "#Iterate through team ids and store in a pandas table\n",
    "tables = []\n",
    "for team in team_ids:\n",
    "    table = hp.parse_url(base_url.format(team)) # Grabbing the table from the tuple\n",
    "    print(type(table))\n",
    "    tables.append(table)\n"
   ]
  },
  {
   "cell_type": "markdown",
   "metadata": {},
   "source": [
    "Store data to prevent having to requery the site"
   ]
  },
  {
   "cell_type": "code",
   "execution_count": 183,
   "metadata": {
    "collapsed": true
   },
   "outputs": [],
   "source": [
    "raw_data = pd.concat(tables)\n"
   ]
  },
  {
   "cell_type": "code",
   "execution_count": 184,
   "metadata": {},
   "outputs": [
    {
     "name": "stdout",
     "output_type": "stream",
     "text": [
      "      Team Result   For   Aga  Diff Tries Conv Pens Drop     Opposition  \\\n",
      "0  England    won  46.0  15.0  31.0     7    4    1    0        v Italy   \n",
      "1  England    won  48.0  14.0  34.0     7    5    1    0        v Samoa   \n",
      "2  England    won  30.0   6.0  24.0     4    2    2    0    v Australia   \n",
      "3  England    won  21.0   8.0  13.0     2    1    3    0    v Argentina   \n",
      "4  England    won  35.0  25.0  10.0     4    3    2    1    v Argentina   \n",
      "\n",
      "       Ground   Match Date    \n",
      "0        Rome   4 Feb 2018    \n",
      "1  Twickenham  25 Nov 2017    \n",
      "2  Twickenham  18 Nov 2017    \n",
      "3  Twickenham  11 Nov 2017    \n",
      "4    Santa Fe  17 Jun 2017    \n"
     ]
    }
   ],
   "source": [
    "print(raw_data.head())"
   ]
  },
  {
   "cell_type": "markdown",
   "metadata": {},
   "source": [
    "## Exploratory data analysis"
   ]
  },
  {
   "cell_type": "code",
   "execution_count": 185,
   "metadata": {
    "collapsed": true
   },
   "outputs": [],
   "source": [
    "import seaborn as sns\n",
    "import matplotlib.pyplot as plt\n",
    "import numpy as np\n",
    "from sklearn_pandas import DataFrameMapper\n",
    "from sklearn.preprocessing import LabelEncoder, Imputer, StandardScaler \n",
    "\n",
    "%matplotlib inline\n",
    "\n",
    "plt.style.use('bmh')"
   ]
  },
  {
   "cell_type": "code",
   "execution_count": 186,
   "metadata": {},
   "outputs": [
    {
     "name": "stdout",
     "output_type": "stream",
     "text": [
      "<class 'pandas.core.frame.DataFrame'>\n",
      "Int64Index: 290 entries, 0 to 47\n",
      "Data columns (total 14 columns):\n",
      "Team          290 non-null object\n",
      "Result        290 non-null object\n",
      "For           290 non-null float64\n",
      "Aga           290 non-null float64\n",
      "Diff          290 non-null float64\n",
      "Tries         290 non-null object\n",
      "Conv          290 non-null object\n",
      "Pens          290 non-null object\n",
      "Drop          290 non-null object\n",
      "              290 non-null object\n",
      "Opposition    290 non-null object\n",
      "Ground        290 non-null object\n",
      "Match Date    290 non-null object\n",
      "              290 non-null object\n",
      "dtypes: float64(3), object(11)\n",
      "memory usage: 34.0+ KB\n"
     ]
    }
   ],
   "source": [
    "raw_data.info()"
   ]
  },
  {
   "cell_type": "markdown",
   "metadata": {},
   "source": [
    "With the exception of two null columns that have been created, it appears we have full data for all other fields\n"
   ]
  },
  {
   "cell_type": "code",
   "execution_count": 187,
   "metadata": {},
   "outputs": [],
   "source": [
    "#Dropping null columns\n",
    "cols = [9,13]\n",
    "raw_data = raw_data.drop(raw_data.columns[cols],axis=1)\n",
    "\n",
    "raw_data.to_csv('raw_data.csv')\n"
   ]
  },
  {
   "cell_type": "code",
   "execution_count": 188,
   "metadata": {},
   "outputs": [
    {
     "data": {
      "text/html": [
       "<div>\n",
       "<style>\n",
       "    .dataframe thead tr:only-child th {\n",
       "        text-align: right;\n",
       "    }\n",
       "\n",
       "    .dataframe thead th {\n",
       "        text-align: left;\n",
       "    }\n",
       "\n",
       "    .dataframe tbody tr th {\n",
       "        vertical-align: top;\n",
       "    }\n",
       "</style>\n",
       "<table border=\"1\" class=\"dataframe\">\n",
       "  <thead>\n",
       "    <tr style=\"text-align: right;\">\n",
       "      <th></th>\n",
       "      <th>Team</th>\n",
       "      <th>Result</th>\n",
       "      <th>For</th>\n",
       "      <th>Aga</th>\n",
       "      <th>Diff</th>\n",
       "      <th>Tries</th>\n",
       "      <th>Conv</th>\n",
       "      <th>Pens</th>\n",
       "      <th>Drop</th>\n",
       "      <th>Opposition</th>\n",
       "      <th>Ground</th>\n",
       "      <th>Match Date</th>\n",
       "    </tr>\n",
       "  </thead>\n",
       "  <tbody>\n",
       "    <tr>\n",
       "      <th>0</th>\n",
       "      <td>England</td>\n",
       "      <td>won</td>\n",
       "      <td>46.0</td>\n",
       "      <td>15.0</td>\n",
       "      <td>31.0</td>\n",
       "      <td>7.0</td>\n",
       "      <td>4.0</td>\n",
       "      <td>1.0</td>\n",
       "      <td>0.0</td>\n",
       "      <td>v Italy</td>\n",
       "      <td>Rome</td>\n",
       "      <td>4 Feb 2018</td>\n",
       "    </tr>\n",
       "    <tr>\n",
       "      <th>1</th>\n",
       "      <td>England</td>\n",
       "      <td>won</td>\n",
       "      <td>48.0</td>\n",
       "      <td>14.0</td>\n",
       "      <td>34.0</td>\n",
       "      <td>7.0</td>\n",
       "      <td>5.0</td>\n",
       "      <td>1.0</td>\n",
       "      <td>0.0</td>\n",
       "      <td>v Samoa</td>\n",
       "      <td>Twickenham</td>\n",
       "      <td>25 Nov 2017</td>\n",
       "    </tr>\n",
       "    <tr>\n",
       "      <th>2</th>\n",
       "      <td>England</td>\n",
       "      <td>won</td>\n",
       "      <td>30.0</td>\n",
       "      <td>6.0</td>\n",
       "      <td>24.0</td>\n",
       "      <td>4.0</td>\n",
       "      <td>2.0</td>\n",
       "      <td>2.0</td>\n",
       "      <td>0.0</td>\n",
       "      <td>v Australia</td>\n",
       "      <td>Twickenham</td>\n",
       "      <td>18 Nov 2017</td>\n",
       "    </tr>\n",
       "    <tr>\n",
       "      <th>3</th>\n",
       "      <td>England</td>\n",
       "      <td>won</td>\n",
       "      <td>21.0</td>\n",
       "      <td>8.0</td>\n",
       "      <td>13.0</td>\n",
       "      <td>2.0</td>\n",
       "      <td>1.0</td>\n",
       "      <td>3.0</td>\n",
       "      <td>0.0</td>\n",
       "      <td>v Argentina</td>\n",
       "      <td>Twickenham</td>\n",
       "      <td>11 Nov 2017</td>\n",
       "    </tr>\n",
       "    <tr>\n",
       "      <th>4</th>\n",
       "      <td>England</td>\n",
       "      <td>won</td>\n",
       "      <td>35.0</td>\n",
       "      <td>25.0</td>\n",
       "      <td>10.0</td>\n",
       "      <td>4.0</td>\n",
       "      <td>3.0</td>\n",
       "      <td>2.0</td>\n",
       "      <td>1.0</td>\n",
       "      <td>v Argentina</td>\n",
       "      <td>Santa Fe</td>\n",
       "      <td>17 Jun 2017</td>\n",
       "    </tr>\n",
       "  </tbody>\n",
       "</table>\n",
       "</div>"
      ],
      "text/plain": [
       "      Team Result   For   Aga  Diff Tries Conv Pens Drop   Opposition  \\\n",
       "0  England    won  46.0  15.0  31.0   7.0  4.0  1.0  0.0      v Italy   \n",
       "1  England    won  48.0  14.0  34.0   7.0  5.0  1.0  0.0      v Samoa   \n",
       "2  England    won  30.0   6.0  24.0   4.0  2.0  2.0  0.0  v Australia   \n",
       "3  England    won  21.0   8.0  13.0   2.0  1.0  3.0  0.0  v Argentina   \n",
       "4  England    won  35.0  25.0  10.0   4.0  3.0  2.0  1.0  v Argentina   \n",
       "\n",
       "       Ground   Match Date  \n",
       "0        Rome   4 Feb 2018  \n",
       "1  Twickenham  25 Nov 2017  \n",
       "2  Twickenham  18 Nov 2017  \n",
       "3  Twickenham  11 Nov 2017  \n",
       "4    Santa Fe  17 Jun 2017  "
      ]
     },
     "execution_count": 188,
     "metadata": {},
     "output_type": "execute_result"
    }
   ],
   "source": [
    "raw_data = pd.read_csv('raw_data.csv', index_col=0)\n",
    "raw_data.head()"
   ]
  },
  {
   "cell_type": "code",
   "execution_count": 189,
   "metadata": {
    "collapsed": true
   },
   "outputs": [],
   "source": [
    "df_num = raw_data.select_dtypes(include = ['float64', 'int64'])\n",
    "df_str = raw_data.select_dtypes(include = ['object'])"
   ]
  },
  {
   "cell_type": "code",
   "execution_count": 190,
   "metadata": {},
   "outputs": [
    {
     "data": {
      "text/html": [
       "<div>\n",
       "<style>\n",
       "    .dataframe thead tr:only-child th {\n",
       "        text-align: right;\n",
       "    }\n",
       "\n",
       "    .dataframe thead th {\n",
       "        text-align: left;\n",
       "    }\n",
       "\n",
       "    .dataframe tbody tr th {\n",
       "        vertical-align: top;\n",
       "    }\n",
       "</style>\n",
       "<table border=\"1\" class=\"dataframe\">\n",
       "  <thead>\n",
       "    <tr style=\"text-align: right;\">\n",
       "      <th></th>\n",
       "      <th>For</th>\n",
       "      <th>Aga</th>\n",
       "      <th>Diff</th>\n",
       "    </tr>\n",
       "  </thead>\n",
       "  <tbody>\n",
       "    <tr>\n",
       "      <th>count</th>\n",
       "      <td>290.000000</td>\n",
       "      <td>290.000000</td>\n",
       "      <td>290.000000</td>\n",
       "    </tr>\n",
       "    <tr>\n",
       "      <th>mean</th>\n",
       "      <td>23.013793</td>\n",
       "      <td>21.624138</td>\n",
       "      <td>1.389655</td>\n",
       "    </tr>\n",
       "    <tr>\n",
       "      <th>std</th>\n",
       "      <td>13.158594</td>\n",
       "      <td>12.622278</td>\n",
       "      <td>20.086919</td>\n",
       "    </tr>\n",
       "    <tr>\n",
       "      <th>min</th>\n",
       "      <td>0.000000</td>\n",
       "      <td>0.000000</td>\n",
       "      <td>-58.000000</td>\n",
       "    </tr>\n",
       "    <tr>\n",
       "      <th>25%</th>\n",
       "      <td>15.000000</td>\n",
       "      <td>13.000000</td>\n",
       "      <td>-8.000000</td>\n",
       "    </tr>\n",
       "    <tr>\n",
       "      <th>50%</th>\n",
       "      <td>21.000000</td>\n",
       "      <td>20.000000</td>\n",
       "      <td>2.000000</td>\n",
       "    </tr>\n",
       "    <tr>\n",
       "      <th>75%</th>\n",
       "      <td>28.000000</td>\n",
       "      <td>28.000000</td>\n",
       "      <td>11.000000</td>\n",
       "    </tr>\n",
       "    <tr>\n",
       "      <th>max</th>\n",
       "      <td>67.000000</td>\n",
       "      <td>68.000000</td>\n",
       "      <td>57.000000</td>\n",
       "    </tr>\n",
       "  </tbody>\n",
       "</table>\n",
       "</div>"
      ],
      "text/plain": [
       "              For         Aga        Diff\n",
       "count  290.000000  290.000000  290.000000\n",
       "mean    23.013793   21.624138    1.389655\n",
       "std     13.158594   12.622278   20.086919\n",
       "min      0.000000    0.000000  -58.000000\n",
       "25%     15.000000   13.000000   -8.000000\n",
       "50%     21.000000   20.000000    2.000000\n",
       "75%     28.000000   28.000000   11.000000\n",
       "max     67.000000   68.000000   57.000000"
      ]
     },
     "execution_count": 190,
     "metadata": {},
     "output_type": "execute_result"
    }
   ],
   "source": [
    "raw_data.describe()"
   ]
  },
  {
   "cell_type": "code",
   "execution_count": 191,
   "metadata": {},
   "outputs": [
    {
     "data": {
      "text/plain": [
       "Index(['Team', 'Result', 'For', 'Aga', 'Diff', 'Tries', 'Conv', 'Pens', 'Drop',\n",
       "       'Opposition', 'Ground', 'Match Date'],\n",
       "      dtype='object')"
      ]
     },
     "execution_count": 191,
     "metadata": {},
     "output_type": "execute_result"
    }
   ],
   "source": [
    "raw_data.columns"
   ]
  },
  {
   "cell_type": "code",
   "execution_count": 192,
   "metadata": {},
   "outputs": [
    {
     "data": {
      "image/png": "[encoded data removed]",
      "text/plain": [
       "<matplotlib.figure.Figure at 0x7f9531b4af98>"
      ]
     },
     "metadata": {},
     "output_type": "display_data"
    }
   ],
   "source": [
    "df_num.hist(figsize=(16, 20), bins=50, xlabelsize=8, ylabelsize=8);"
   ]
  },
  {
   "cell_type": "markdown",
   "metadata": {
    "collapsed": true
   },
   "source": [
    "Not much that is not suspected. Score, tries, conversions, penalties all follow a poisson distribution. Diff is normally distributed."
   ]
  },
  {
   "cell_type": "code",
   "execution_count": 193,
   "metadata": {},
   "outputs": [
    {
     "data": {
      "image/png": "[encoded data removed]",
      "text/plain": [
       "<matplotlib.figure.Figure at 0x7f9532179630>"
      ]
     },
     "metadata": {},
     "output_type": "display_data"
    }
   ],
   "source": [
    "for i in range(0, len(df_num.columns), 5):\n",
    "    sns.pairplot(data=df_num,\n",
    "                x_vars=df_num.columns[i:i+5],\n",
    "                y_vars=['Diff'])"
   ]
  },
  {
   "cell_type": "markdown",
   "metadata": {},
   "source": [
    "Some scores in rugby are more probable than others given that only 3, 5 and 7 are possible. Here we will examine the number of combinations in which each score (up to 70) can be made. As demonstrated below, the probability does not increase uniformly."
   ]
  },
  {
   "cell_type": "code",
   "execution_count": 194,
   "metadata": {},
   "outputs": [
    {
     "name": "stdout",
     "output_type": "stream",
     "text": [
      "[(0, 1), (1, 0), (2, 0), (3, 1), (4, 0), (5, 1), (6, 1), (7, 1), (8, 1), (9, 1), (10, 2), (11, 1), (12, 2), (13, 2), (14, 2), (15, 3), (16, 2), (17, 3), (18, 3), (19, 3), (20, 4), (21, 4), (22, 4), (23, 4), (24, 5), (25, 5), (26, 5), (27, 6), (28, 6), (29, 6), (30, 7), (31, 7), (32, 7), (33, 8), (34, 8), (35, 9), (36, 9), (37, 9), (38, 10), (39, 10), (40, 11), (41, 11), (42, 12), (43, 12), (44, 12), (45, 14), (46, 13), (47, 14), (48, 15), (49, 15), (50, 16), (51, 16), (52, 17), (53, 17), (54, 18), (55, 19), (56, 19), (57, 20), (58, 20), (59, 21), (60, 22), (61, 22), (62, 23), (63, 24), (64, 24), (65, 25), (66, 26), (67, 26), (68, 27), (69, 28)]\n"
     ]
    },
    {
     "data": {
      "image/png": "[encoded data removed]",
      "text/plain": [
       "<matplotlib.figure.Figure at 0x7f952116bda0>"
      ]
     },
     "metadata": {},
     "output_type": "display_data"
    }
   ],
   "source": [
    "class Combination:\n",
    "    def combinationSum(self, candidates, target):\n",
    "        candidates.sort()\n",
    "        res=[]\n",
    "        self.DFS(candidates,target,0,res,[])\n",
    "        return res\n",
    " \n",
    "    def DFS(self,candidates,target,start,res,intermedia):\n",
    "        if target==0:\n",
    "            res.append(intermedia)\n",
    "            return\n",
    "        for i in range(start,len(candidates)):\n",
    "            if target<candidates[i]:\n",
    "                return\n",
    "            self.DFS(candidates,target-candidates[i],i,res,intermedia+[candidates[i]])\n",
    " \n",
    "test = Combination()\n",
    " \n",
    "combinations = [((i, len(test.combinationSum([3,5,7],i))) )for i in range(70) ]\n",
    "\n",
    "\n",
    "fig = plt.figure()\n",
    "plt.plot([i[1] for i in perms])\n",
    "fig.suptitle('Number of factors for rugby scores', fontsize=20)\n",
    "plt.xlabel('Total Score', fontsize=18)\n",
    "plt.ylabel('Combinations', fontsize=16)\n",
    "\n",
    "print(perms)"
   ]
  },
  {
   "cell_type": "code",
   "execution_count": 195,
   "metadata": {},
   "outputs": [
    {
     "name": "stdout",
     "output_type": "stream",
     "text": [
      "Sample mean score is 23.46\n",
      "Bootstrapped mean score is 23.02\n"
     ]
    },
    {
     "data": {
      "image/png": "[encoded data removed]",
      "text/plain": [
       "<matplotlib.figure.Figure at 0x7f9531a53da0>"
      ]
     },
     "metadata": {},
     "output_type": "display_data"
    }
   ],
   "source": [
    "np.random.seed(seed=1234)\n",
    "\n",
    "boot= np.random.choice(raw_data.For, 100000)\n",
    "\n",
    "fig, ((ax1, ax2)) = plt.subplots(nrows=1, ncols=2)\n",
    " \n",
    "ax1.hist(raw_data.For)\n",
    "ax1.set_title(\"Distribution of total scores\")\n",
    "ax1.set_ylabel(\"Total Score\")\n",
    "\n",
    "ax2.hist(boot)\n",
    "ax2.set_title('Bootstrapped total scores')\n",
    "ax2.set_ylabel('Total Score')\n",
    "\n",
    "plt.tight_layout()\n",
    "print(\"Sample mean score is {:.2f}\".format(np.mean(dc1.For)))\n",
    "print(\"Bootstrapped mean score is {:.2f}\".format(np.mean(boot)))"
   ]
  },
  {
   "cell_type": "markdown",
   "metadata": {},
   "source": [
    "## Feature engineering "
   ]
  },
  {
   "cell_type": "code",
   "execution_count": 196,
   "metadata": {},
   "outputs": [
    {
     "name": "stdout",
     "output_type": "stream",
     "text": [
      "<class 'pandas.core.frame.DataFrame'>\n",
      "Int64Index: 290 entries, 0 to 47\n",
      "Data columns (total 12 columns):\n",
      "Team          290 non-null object\n",
      "Result        290 non-null object\n",
      "For           290 non-null float64\n",
      "Aga           290 non-null float64\n",
      "Diff          290 non-null float64\n",
      "Tries         290 non-null object\n",
      "Conv          290 non-null object\n",
      "Pens          290 non-null object\n",
      "Drop          290 non-null object\n",
      "Opposition    290 non-null object\n",
      "Ground        290 non-null object\n",
      "Match Date    290 non-null object\n",
      "dtypes: float64(3), object(9)\n",
      "memory usage: 29.5+ KB\n"
     ]
    }
   ],
   "source": [
    "\n",
    "raw_data.info()"
   ]
  },
  {
   "cell_type": "code",
   "execution_count": 197,
   "metadata": {
    "collapsed": true
   },
   "outputs": [],
   "source": [
    "import isoweek\n",
    "from pandas_summary import DataFrameSummary\n",
    "dc1 = raw_data"
   ]
  },
  {
   "cell_type": "markdown",
   "metadata": {},
   "source": [
    "Some features of interest may be "
   ]
  },
  {
   "cell_type": "code",
   "execution_count": 198,
   "metadata": {},
   "outputs": [
    {
     "data": {
      "text/html": [
       "<div>\n",
       "<style>\n",
       "    .dataframe thead tr:only-child th {\n",
       "        text-align: right;\n",
       "    }\n",
       "\n",
       "    .dataframe thead th {\n",
       "        text-align: left;\n",
       "    }\n",
       "\n",
       "    .dataframe tbody tr th {\n",
       "        vertical-align: top;\n",
       "    }\n",
       "</style>\n",
       "<table border=\"1\" class=\"dataframe\">\n",
       "  <thead>\n",
       "    <tr style=\"text-align: right;\">\n",
       "      <th></th>\n",
       "      <th>Team</th>\n",
       "      <th>Result</th>\n",
       "      <th>For</th>\n",
       "      <th>Aga</th>\n",
       "      <th>Diff</th>\n",
       "      <th>Tries</th>\n",
       "      <th>Conv</th>\n",
       "      <th>Pens</th>\n",
       "      <th>Drop</th>\n",
       "      <th>Opposition</th>\n",
       "      <th>Ground</th>\n",
       "      <th>Match Date</th>\n",
       "    </tr>\n",
       "  </thead>\n",
       "  <tbody>\n",
       "    <tr>\n",
       "      <th>count</th>\n",
       "      <td>NaN</td>\n",
       "      <td>NaN</td>\n",
       "      <td>290</td>\n",
       "      <td>290</td>\n",
       "      <td>290</td>\n",
       "      <td>NaN</td>\n",
       "      <td>NaN</td>\n",
       "      <td>NaN</td>\n",
       "      <td>NaN</td>\n",
       "      <td>NaN</td>\n",
       "      <td>NaN</td>\n",
       "      <td>NaN</td>\n",
       "    </tr>\n",
       "    <tr>\n",
       "      <th>mean</th>\n",
       "      <td>NaN</td>\n",
       "      <td>NaN</td>\n",
       "      <td>23.0138</td>\n",
       "      <td>21.6241</td>\n",
       "      <td>1.38966</td>\n",
       "      <td>NaN</td>\n",
       "      <td>NaN</td>\n",
       "      <td>NaN</td>\n",
       "      <td>NaN</td>\n",
       "      <td>NaN</td>\n",
       "      <td>NaN</td>\n",
       "      <td>NaN</td>\n",
       "    </tr>\n",
       "    <tr>\n",
       "      <th>std</th>\n",
       "      <td>NaN</td>\n",
       "      <td>NaN</td>\n",
       "      <td>13.1586</td>\n",
       "      <td>12.6223</td>\n",
       "      <td>20.0869</td>\n",
       "      <td>NaN</td>\n",
       "      <td>NaN</td>\n",
       "      <td>NaN</td>\n",
       "      <td>NaN</td>\n",
       "      <td>NaN</td>\n",
       "      <td>NaN</td>\n",
       "      <td>NaN</td>\n",
       "    </tr>\n",
       "    <tr>\n",
       "      <th>min</th>\n",
       "      <td>NaN</td>\n",
       "      <td>NaN</td>\n",
       "      <td>0</td>\n",
       "      <td>0</td>\n",
       "      <td>-58</td>\n",
       "      <td>NaN</td>\n",
       "      <td>NaN</td>\n",
       "      <td>NaN</td>\n",
       "      <td>NaN</td>\n",
       "      <td>NaN</td>\n",
       "      <td>NaN</td>\n",
       "      <td>NaN</td>\n",
       "    </tr>\n",
       "    <tr>\n",
       "      <th>25%</th>\n",
       "      <td>NaN</td>\n",
       "      <td>NaN</td>\n",
       "      <td>15</td>\n",
       "      <td>13</td>\n",
       "      <td>-8</td>\n",
       "      <td>NaN</td>\n",
       "      <td>NaN</td>\n",
       "      <td>NaN</td>\n",
       "      <td>NaN</td>\n",
       "      <td>NaN</td>\n",
       "      <td>NaN</td>\n",
       "      <td>NaN</td>\n",
       "    </tr>\n",
       "    <tr>\n",
       "      <th>50%</th>\n",
       "      <td>NaN</td>\n",
       "      <td>NaN</td>\n",
       "      <td>21</td>\n",
       "      <td>20</td>\n",
       "      <td>2</td>\n",
       "      <td>NaN</td>\n",
       "      <td>NaN</td>\n",
       "      <td>NaN</td>\n",
       "      <td>NaN</td>\n",
       "      <td>NaN</td>\n",
       "      <td>NaN</td>\n",
       "      <td>NaN</td>\n",
       "    </tr>\n",
       "    <tr>\n",
       "      <th>75%</th>\n",
       "      <td>NaN</td>\n",
       "      <td>NaN</td>\n",
       "      <td>28</td>\n",
       "      <td>28</td>\n",
       "      <td>11</td>\n",
       "      <td>NaN</td>\n",
       "      <td>NaN</td>\n",
       "      <td>NaN</td>\n",
       "      <td>NaN</td>\n",
       "      <td>NaN</td>\n",
       "      <td>NaN</td>\n",
       "      <td>NaN</td>\n",
       "    </tr>\n",
       "    <tr>\n",
       "      <th>max</th>\n",
       "      <td>NaN</td>\n",
       "      <td>NaN</td>\n",
       "      <td>67</td>\n",
       "      <td>68</td>\n",
       "      <td>57</td>\n",
       "      <td>NaN</td>\n",
       "      <td>NaN</td>\n",
       "      <td>NaN</td>\n",
       "      <td>NaN</td>\n",
       "      <td>NaN</td>\n",
       "      <td>NaN</td>\n",
       "      <td>NaN</td>\n",
       "    </tr>\n",
       "    <tr>\n",
       "      <th>counts</th>\n",
       "      <td>290</td>\n",
       "      <td>290</td>\n",
       "      <td>290</td>\n",
       "      <td>290</td>\n",
       "      <td>290</td>\n",
       "      <td>290</td>\n",
       "      <td>290</td>\n",
       "      <td>290</td>\n",
       "      <td>290</td>\n",
       "      <td>290</td>\n",
       "      <td>290</td>\n",
       "      <td>290</td>\n",
       "    </tr>\n",
       "    <tr>\n",
       "      <th>uniques</th>\n",
       "      <td>6</td>\n",
       "      <td>4</td>\n",
       "      <td>56</td>\n",
       "      <td>51</td>\n",
       "      <td>79</td>\n",
       "      <td>19</td>\n",
       "      <td>17</td>\n",
       "      <td>17</td>\n",
       "      <td>6</td>\n",
       "      <td>19</td>\n",
       "      <td>54</td>\n",
       "      <td>90</td>\n",
       "    </tr>\n",
       "    <tr>\n",
       "      <th>missing</th>\n",
       "      <td>0</td>\n",
       "      <td>0</td>\n",
       "      <td>0</td>\n",
       "      <td>0</td>\n",
       "      <td>0</td>\n",
       "      <td>0</td>\n",
       "      <td>0</td>\n",
       "      <td>0</td>\n",
       "      <td>0</td>\n",
       "      <td>0</td>\n",
       "      <td>0</td>\n",
       "      <td>0</td>\n",
       "    </tr>\n",
       "    <tr>\n",
       "      <th>missing_perc</th>\n",
       "      <td>0%</td>\n",
       "      <td>0%</td>\n",
       "      <td>0%</td>\n",
       "      <td>0%</td>\n",
       "      <td>0%</td>\n",
       "      <td>0%</td>\n",
       "      <td>0%</td>\n",
       "      <td>0%</td>\n",
       "      <td>0%</td>\n",
       "      <td>0%</td>\n",
       "      <td>0%</td>\n",
       "      <td>0%</td>\n",
       "    </tr>\n",
       "    <tr>\n",
       "      <th>types</th>\n",
       "      <td>categorical</td>\n",
       "      <td>categorical</td>\n",
       "      <td>numeric</td>\n",
       "      <td>numeric</td>\n",
       "      <td>numeric</td>\n",
       "      <td>categorical</td>\n",
       "      <td>categorical</td>\n",
       "      <td>categorical</td>\n",
       "      <td>categorical</td>\n",
       "      <td>categorical</td>\n",
       "      <td>categorical</td>\n",
       "      <td>categorical</td>\n",
       "    </tr>\n",
       "  </tbody>\n",
       "</table>\n",
       "</div>"
      ],
      "text/plain": [
       "                     Team       Result      For      Aga     Diff  \\\n",
       "count                 NaN          NaN      290      290      290   \n",
       "mean                  NaN          NaN  23.0138  21.6241  1.38966   \n",
       "std                   NaN          NaN  13.1586  12.6223  20.0869   \n",
       "min                   NaN          NaN        0        0      -58   \n",
       "25%                   NaN          NaN       15       13       -8   \n",
       "50%                   NaN          NaN       21       20        2   \n",
       "75%                   NaN          NaN       28       28       11   \n",
       "max                   NaN          NaN       67       68       57   \n",
       "counts                290          290      290      290      290   \n",
       "uniques                 6            4       56       51       79   \n",
       "missing                 0            0        0        0        0   \n",
       "missing_perc           0%           0%       0%       0%       0%   \n",
       "types         categorical  categorical  numeric  numeric  numeric   \n",
       "\n",
       "                    Tries         Conv         Pens         Drop   Opposition  \\\n",
       "count                 NaN          NaN          NaN          NaN          NaN   \n",
       "mean                  NaN          NaN          NaN          NaN          NaN   \n",
       "std                   NaN          NaN          NaN          NaN          NaN   \n",
       "min                   NaN          NaN          NaN          NaN          NaN   \n",
       "25%                   NaN          NaN          NaN          NaN          NaN   \n",
       "50%                   NaN          NaN          NaN          NaN          NaN   \n",
       "75%                   NaN          NaN          NaN          NaN          NaN   \n",
       "max                   NaN          NaN          NaN          NaN          NaN   \n",
       "counts                290          290          290          290          290   \n",
       "uniques                19           17           17            6           19   \n",
       "missing                 0            0            0            0            0   \n",
       "missing_perc           0%           0%           0%           0%           0%   \n",
       "types         categorical  categorical  categorical  categorical  categorical   \n",
       "\n",
       "                   Ground   Match Date  \n",
       "count                 NaN          NaN  \n",
       "mean                  NaN          NaN  \n",
       "std                   NaN          NaN  \n",
       "min                   NaN          NaN  \n",
       "25%                   NaN          NaN  \n",
       "50%                   NaN          NaN  \n",
       "75%                   NaN          NaN  \n",
       "max                   NaN          NaN  \n",
       "counts                290          290  \n",
       "uniques                54           90  \n",
       "missing                 0            0  \n",
       "missing_perc           0%           0%  \n",
       "types         categorical  categorical  "
      ]
     },
     "execution_count": 198,
     "metadata": {},
     "output_type": "execute_result"
    }
   ],
   "source": [
    "DataFrameSummary(dc1).summary()"
   ]
  },
  {
   "cell_type": "code",
   "execution_count": 199,
   "metadata": {
    "collapsed": true
   },
   "outputs": [],
   "source": [
    "def add_datepart(df, colname):\n",
    "    dfx = df\n",
    "    dfx[\"Date\"] = pd.to_datetime(dfx[colname])\n",
    "    dfx[\"Year\"] = dfx.Date.dt.year\n",
    "    dfx[\"Month\"] = dfx.Date.dt.month\n",
    "    dfx[\"Week\"] = dfx.Date.dt.week\n",
    "    dfx[\"Day\"] = dfx.Date.dt.day\n",
    "    return dfx \n",
    "    "
   ]
  },
  {
   "cell_type": "code",
   "execution_count": 214,
   "metadata": {},
   "outputs": [
    {
     "data": {
      "text/html": [
       "<div>\n",
       "<style>\n",
       "    .dataframe thead tr:only-child th {\n",
       "        text-align: right;\n",
       "    }\n",
       "\n",
       "    .dataframe thead th {\n",
       "        text-align: left;\n",
       "    }\n",
       "\n",
       "    .dataframe tbody tr th {\n",
       "        vertical-align: top;\n",
       "    }\n",
       "</style>\n",
       "<table border=\"1\" class=\"dataframe\">\n",
       "  <thead>\n",
       "    <tr style=\"text-align: right;\">\n",
       "      <th></th>\n",
       "      <th>Team</th>\n",
       "      <th>Result</th>\n",
       "      <th>For</th>\n",
       "      <th>Aga</th>\n",
       "      <th>Diff</th>\n",
       "      <th>Tries</th>\n",
       "      <th>Conv</th>\n",
       "      <th>Pens</th>\n",
       "      <th>Drop</th>\n",
       "      <th>Opposition</th>\n",
       "      <th>Ground</th>\n",
       "      <th>Match Date</th>\n",
       "      <th>Date</th>\n",
       "      <th>Year</th>\n",
       "      <th>Month</th>\n",
       "      <th>Week</th>\n",
       "      <th>Day</th>\n",
       "    </tr>\n",
       "  </thead>\n",
       "  <tbody>\n",
       "    <tr>\n",
       "      <th>0</th>\n",
       "      <td>France</td>\n",
       "      <td>-</td>\n",
       "      <td>0.0</td>\n",
       "      <td>0.0</td>\n",
       "      <td>0.0</td>\n",
       "      <td>-</td>\n",
       "      <td>-</td>\n",
       "      <td>-</td>\n",
       "      <td>-</td>\n",
       "      <td>v New Zealand</td>\n",
       "      <td>Dunedin</td>\n",
       "      <td>23 Jun 2018</td>\n",
       "      <td>2018-06-23</td>\n",
       "      <td>2018</td>\n",
       "      <td>6</td>\n",
       "      <td>25</td>\n",
       "      <td>23</td>\n",
       "    </tr>\n",
       "    <tr>\n",
       "      <th>0</th>\n",
       "      <td>Italy</td>\n",
       "      <td>-</td>\n",
       "      <td>0.0</td>\n",
       "      <td>0.0</td>\n",
       "      <td>0.0</td>\n",
       "      <td>-</td>\n",
       "      <td>-</td>\n",
       "      <td>-</td>\n",
       "      <td>-</td>\n",
       "      <td>v Japan</td>\n",
       "      <td>-</td>\n",
       "      <td>16 Jun 2018</td>\n",
       "      <td>2018-06-16</td>\n",
       "      <td>2018</td>\n",
       "      <td>6</td>\n",
       "      <td>24</td>\n",
       "      <td>16</td>\n",
       "    </tr>\n",
       "    <tr>\n",
       "      <th>1</th>\n",
       "      <td>France</td>\n",
       "      <td>-</td>\n",
       "      <td>0.0</td>\n",
       "      <td>0.0</td>\n",
       "      <td>0.0</td>\n",
       "      <td>-</td>\n",
       "      <td>-</td>\n",
       "      <td>-</td>\n",
       "      <td>-</td>\n",
       "      <td>v New Zealand</td>\n",
       "      <td>Wellington</td>\n",
       "      <td>16 Jun 2018</td>\n",
       "      <td>2018-06-16</td>\n",
       "      <td>2018</td>\n",
       "      <td>6</td>\n",
       "      <td>24</td>\n",
       "      <td>16</td>\n",
       "    </tr>\n",
       "    <tr>\n",
       "      <th>1</th>\n",
       "      <td>Italy</td>\n",
       "      <td>-</td>\n",
       "      <td>0.0</td>\n",
       "      <td>0.0</td>\n",
       "      <td>0.0</td>\n",
       "      <td>-</td>\n",
       "      <td>-</td>\n",
       "      <td>-</td>\n",
       "      <td>-</td>\n",
       "      <td>v Japan</td>\n",
       "      <td>-</td>\n",
       "      <td>9 Jun 2018</td>\n",
       "      <td>2018-06-09</td>\n",
       "      <td>2018</td>\n",
       "      <td>6</td>\n",
       "      <td>23</td>\n",
       "      <td>9</td>\n",
       "    </tr>\n",
       "    <tr>\n",
       "      <th>2</th>\n",
       "      <td>France</td>\n",
       "      <td>-</td>\n",
       "      <td>0.0</td>\n",
       "      <td>0.0</td>\n",
       "      <td>0.0</td>\n",
       "      <td>-</td>\n",
       "      <td>-</td>\n",
       "      <td>-</td>\n",
       "      <td>-</td>\n",
       "      <td>v New Zealand</td>\n",
       "      <td>Auckland</td>\n",
       "      <td>9 Jun 2018</td>\n",
       "      <td>2018-06-09</td>\n",
       "      <td>2018</td>\n",
       "      <td>6</td>\n",
       "      <td>23</td>\n",
       "      <td>9</td>\n",
       "    </tr>\n",
       "  </tbody>\n",
       "</table>\n",
       "</div>"
      ],
      "text/plain": [
       "     Team Result  For  Aga  Diff Tries Conv Pens Drop     Opposition  \\\n",
       "0  France      -  0.0  0.0   0.0     -    -    -    -  v New Zealand   \n",
       "0   Italy      -  0.0  0.0   0.0     -    -    -    -        v Japan   \n",
       "1  France      -  0.0  0.0   0.0     -    -    -    -  v New Zealand   \n",
       "1   Italy      -  0.0  0.0   0.0     -    -    -    -        v Japan   \n",
       "2  France      -  0.0  0.0   0.0     -    -    -    -  v New Zealand   \n",
       "\n",
       "       Ground   Match Date       Date  Year  Month  Week  Day  \n",
       "0     Dunedin  23 Jun 2018 2018-06-23  2018      6    25   23  \n",
       "0           -  16 Jun 2018 2018-06-16  2018      6    24   16  \n",
       "1  Wellington  16 Jun 2018 2018-06-16  2018      6    24   16  \n",
       "1           -   9 Jun 2018 2018-06-09  2018      6    23    9  \n",
       "2    Auckland   9 Jun 2018 2018-06-09  2018      6    23    9  "
      ]
     },
     "execution_count": 214,
     "metadata": {},
     "output_type": "execute_result"
    }
   ],
   "source": [
    "dc1.sort_values(by=['Team','Date']).head()\n",
    "dc1.sort_values(['Date'], ascending = False).head()\n"
   ]
  },
  {
   "cell_type": "code",
   "execution_count": 201,
   "metadata": {
    "collapsed": true
   },
   "outputs": [],
   "source": [
    "#Convert score into ordinal data\n",
    "def score(result):\n",
    "    if result ==\"\": return None\n",
    "    else: return [\"lost\",\"draw\",\"won\"].index(result) -1 \n",
    "    \n",
    "#Want to take Home Game Advantage into account, so create lookup\n",
    "home = {'England':['Twickenham','Manchester','Newcastle','Leeds', 'Gloucester', 'London','Wembley','Milton Keynes','Exeter'],\n",
    "        'Scotland':['Murrayfield','Hamilton','Kilmarnock'],\n",
    "        'Wales': ['Millennium Stadium','Principality Stadium'],\n",
    "        'Ireland':['Landsdowne Road'],\n",
    "        'France':['Stade de France','Marseille','Paris','Toulouse'],\n",
    "        'Italy':['Rome','Firenze','Catania','Padova','Genova','Torino','Ascoli Piceno']}\n",
    "\n",
    "def isHome(Team, Ground):\n",
    "    return int(Ground in home[Team])\n",
    "\n",
    "\n",
    "def shiftRes(df, n=5):\n",
    "    cols = ['Resultn','For','Aga','Diff','Tries','Conv','Pens','Drop','Opposition','Ground','Year','Month','Day','Home']\n",
    "    dfx = df.sort_values(by=['Team','Date'])\n",
    "    for k, v in dfx.groupby('Team'):\n",
    "        for i in range(1, n+1):\n",
    "            for res in cols:\n",
    "                dfx[\"Prev\"+res+str(i)] = dfx[res].shift(i)\n",
    "    return dfx\n",
    "\n"
   ]
  },
  {
   "cell_type": "code",
   "execution_count": 245,
   "metadata": {
    "collapsed": true
   },
   "outputs": [],
   "source": [
    "def preproc(df):\n",
    "    dfx = df[df.Result != '-']\n",
    "    dfx = add_datepart(dfx,\"Match Date\")\n",
    "    dfx['Resultn']= dfx.Result.apply(score)\n",
    "    dfx['Home'] = dfx.apply(lambda row: isHome(row.Team, row.Ground), axis=1)\n",
    "    dfx['Opposition'] = dfx.Opposition.astype(str).str.split().str[1]\n",
    "    dfx = dfx.apply(LabelEncoder().fit_transform)\n",
    "    dfx = shiftRes(dfx)\n",
    "    dfx = dfx.dropna(axis=0, how='any')\n",
    "    return dfx\n",
    "    \n",
    "#To shift\n",
    "\n"
   ]
  },
  {
   "cell_type": "code",
   "execution_count": 246,
   "metadata": {},
   "outputs": [
    {
     "name": "stderr",
     "output_type": "stream",
     "text": [
      "/home/karma/anaconda3/lib/python3.6/site-packages/ipykernel_launcher.py:3: SettingWithCopyWarning: \n",
      "A value is trying to be set on a copy of a slice from a DataFrame.\n",
      "Try using .loc[row_indexer,col_indexer] = value instead\n",
      "\n",
      "See the caveats in the documentation: http://pandas.pydata.org/pandas-docs/stable/indexing.html#indexing-view-versus-copy\n",
      "  This is separate from the ipykernel package so we can avoid doing imports until\n",
      "/home/karma/anaconda3/lib/python3.6/site-packages/ipykernel_launcher.py:4: SettingWithCopyWarning: \n",
      "A value is trying to be set on a copy of a slice from a DataFrame.\n",
      "Try using .loc[row_indexer,col_indexer] = value instead\n",
      "\n",
      "See the caveats in the documentation: http://pandas.pydata.org/pandas-docs/stable/indexing.html#indexing-view-versus-copy\n",
      "  after removing the cwd from sys.path.\n",
      "/home/karma/anaconda3/lib/python3.6/site-packages/ipykernel_launcher.py:5: SettingWithCopyWarning: \n",
      "A value is trying to be set on a copy of a slice from a DataFrame.\n",
      "Try using .loc[row_indexer,col_indexer] = value instead\n",
      "\n",
      "See the caveats in the documentation: http://pandas.pydata.org/pandas-docs/stable/indexing.html#indexing-view-versus-copy\n",
      "  \"\"\"\n",
      "/home/karma/anaconda3/lib/python3.6/site-packages/ipykernel_launcher.py:6: SettingWithCopyWarning: \n",
      "A value is trying to be set on a copy of a slice from a DataFrame.\n",
      "Try using .loc[row_indexer,col_indexer] = value instead\n",
      "\n",
      "See the caveats in the documentation: http://pandas.pydata.org/pandas-docs/stable/indexing.html#indexing-view-versus-copy\n",
      "  \n",
      "/home/karma/anaconda3/lib/python3.6/site-packages/ipykernel_launcher.py:7: SettingWithCopyWarning: \n",
      "A value is trying to be set on a copy of a slice from a DataFrame.\n",
      "Try using .loc[row_indexer,col_indexer] = value instead\n",
      "\n",
      "See the caveats in the documentation: http://pandas.pydata.org/pandas-docs/stable/indexing.html#indexing-view-versus-copy\n",
      "  import sys\n"
     ]
    },
    {
     "data": {
      "text/html": [
       "<div>\n",
       "<style>\n",
       "    .dataframe thead tr:only-child th {\n",
       "        text-align: right;\n",
       "    }\n",
       "\n",
       "    .dataframe thead th {\n",
       "        text-align: left;\n",
       "    }\n",
       "\n",
       "    .dataframe tbody tr th {\n",
       "        vertical-align: top;\n",
       "    }\n",
       "</style>\n",
       "<table border=\"1\" class=\"dataframe\">\n",
       "  <thead>\n",
       "    <tr style=\"text-align: right;\">\n",
       "      <th></th>\n",
       "      <th>Team</th>\n",
       "      <th>Result</th>\n",
       "      <th>For</th>\n",
       "      <th>Aga</th>\n",
       "      <th>Diff</th>\n",
       "      <th>Tries</th>\n",
       "      <th>Conv</th>\n",
       "      <th>Pens</th>\n",
       "      <th>Drop</th>\n",
       "      <th>Opposition</th>\n",
       "      <th>...</th>\n",
       "      <th>PrevTries5</th>\n",
       "      <th>PrevConv5</th>\n",
       "      <th>PrevPens5</th>\n",
       "      <th>PrevDrop5</th>\n",
       "      <th>PrevOpposition5</th>\n",
       "      <th>PrevGround5</th>\n",
       "      <th>PrevYear5</th>\n",
       "      <th>PrevMonth5</th>\n",
       "      <th>PrevDay5</th>\n",
       "      <th>PrevHome5</th>\n",
       "    </tr>\n",
       "  </thead>\n",
       "  <tbody>\n",
       "    <tr>\n",
       "      <th>4</th>\n",
       "      <td>5</td>\n",
       "      <td>1</td>\n",
       "      <td>17</td>\n",
       "      <td>25</td>\n",
       "      <td>27</td>\n",
       "      <td>6</td>\n",
       "      <td>3</td>\n",
       "      <td>7</td>\n",
       "      <td>1</td>\n",
       "      <td>1</td>\n",
       "      <td>...</td>\n",
       "      <td>3.0</td>\n",
       "      <td>3.0</td>\n",
       "      <td>5.0</td>\n",
       "      <td>1.0</td>\n",
       "      <td>13.0</td>\n",
       "      <td>28.0</td>\n",
       "      <td>3.0</td>\n",
       "      <td>0.0</td>\n",
       "      <td>24.0</td>\n",
       "      <td>0.0</td>\n",
       "    </tr>\n",
       "    <tr>\n",
       "      <th>3</th>\n",
       "      <td>5</td>\n",
       "      <td>2</td>\n",
       "      <td>9</td>\n",
       "      <td>2</td>\n",
       "      <td>42</td>\n",
       "      <td>3</td>\n",
       "      <td>3</td>\n",
       "      <td>5</td>\n",
       "      <td>1</td>\n",
       "      <td>6</td>\n",
       "      <td>...</td>\n",
       "      <td>8.0</td>\n",
       "      <td>5.0</td>\n",
       "      <td>3.0</td>\n",
       "      <td>1.0</td>\n",
       "      <td>7.0</td>\n",
       "      <td>26.0</td>\n",
       "      <td>3.0</td>\n",
       "      <td>1.0</td>\n",
       "      <td>9.0</td>\n",
       "      <td>1.0</td>\n",
       "    </tr>\n",
       "    <tr>\n",
       "      <th>2</th>\n",
       "      <td>5</td>\n",
       "      <td>1</td>\n",
       "      <td>14</td>\n",
       "      <td>29</td>\n",
       "      <td>20</td>\n",
       "      <td>6</td>\n",
       "      <td>3</td>\n",
       "      <td>5</td>\n",
       "      <td>1</td>\n",
       "      <td>10</td>\n",
       "      <td>...</td>\n",
       "      <td>1.0</td>\n",
       "      <td>1.0</td>\n",
       "      <td>13.0</td>\n",
       "      <td>1.0</td>\n",
       "      <td>5.0</td>\n",
       "      <td>42.0</td>\n",
       "      <td>3.0</td>\n",
       "      <td>1.0</td>\n",
       "      <td>17.0</td>\n",
       "      <td>0.0</td>\n",
       "    </tr>\n",
       "    <tr>\n",
       "      <th>1</th>\n",
       "      <td>5</td>\n",
       "      <td>2</td>\n",
       "      <td>20</td>\n",
       "      <td>18</td>\n",
       "      <td>37</td>\n",
       "      <td>8</td>\n",
       "      <td>7</td>\n",
       "      <td>3</td>\n",
       "      <td>1</td>\n",
       "      <td>14</td>\n",
       "      <td>...</td>\n",
       "      <td>6.0</td>\n",
       "      <td>1.0</td>\n",
       "      <td>9.0</td>\n",
       "      <td>1.0</td>\n",
       "      <td>15.0</td>\n",
       "      <td>3.0</td>\n",
       "      <td>3.0</td>\n",
       "      <td>3.0</td>\n",
       "      <td>15.0</td>\n",
       "      <td>0.0</td>\n",
       "    </tr>\n",
       "    <tr>\n",
       "      <th>0</th>\n",
       "      <td>5</td>\n",
       "      <td>2</td>\n",
       "      <td>30</td>\n",
       "      <td>3</td>\n",
       "      <td>61</td>\n",
       "      <td>10</td>\n",
       "      <td>9</td>\n",
       "      <td>5</td>\n",
       "      <td>1</td>\n",
       "      <td>13</td>\n",
       "      <td>...</td>\n",
       "      <td>6.0</td>\n",
       "      <td>1.0</td>\n",
       "      <td>7.0</td>\n",
       "      <td>1.0</td>\n",
       "      <td>12.0</td>\n",
       "      <td>1.0</td>\n",
       "      <td>3.0</td>\n",
       "      <td>3.0</td>\n",
       "      <td>22.0</td>\n",
       "      <td>0.0</td>\n",
       "    </tr>\n",
       "  </tbody>\n",
       "</table>\n",
       "<p>5 rows × 89 columns</p>\n",
       "</div>"
      ],
      "text/plain": [
       "   Team  Result  For  Aga  Diff  Tries  Conv  Pens  Drop  Opposition  \\\n",
       "4     5       1   17   25    27      6     3     7     1           1   \n",
       "3     5       2    9    2    42      3     3     5     1           6   \n",
       "2     5       1   14   29    20      6     3     5     1          10   \n",
       "1     5       2   20   18    37      8     7     3     1          14   \n",
       "0     5       2   30    3    61     10     9     5     1          13   \n",
       "\n",
       "     ...      PrevTries5  PrevConv5  PrevPens5  PrevDrop5  PrevOpposition5  \\\n",
       "4    ...             3.0        3.0        5.0        1.0             13.0   \n",
       "3    ...             8.0        5.0        3.0        1.0              7.0   \n",
       "2    ...             1.0        1.0       13.0        1.0              5.0   \n",
       "1    ...             6.0        1.0        9.0        1.0             15.0   \n",
       "0    ...             6.0        1.0        7.0        1.0             12.0   \n",
       "\n",
       "   PrevGround5  PrevYear5  PrevMonth5  PrevDay5  PrevHome5  \n",
       "4         28.0        3.0         0.0      24.0        0.0  \n",
       "3         26.0        3.0         1.0       9.0        1.0  \n",
       "2         42.0        3.0         1.0      17.0        0.0  \n",
       "1          3.0        3.0         3.0      15.0        0.0  \n",
       "0          1.0        3.0         3.0      22.0        0.0  \n",
       "\n",
       "[5 rows x 89 columns]"
      ]
     },
     "execution_count": 246,
     "metadata": {},
     "output_type": "execute_result"
    }
   ],
   "source": [
    "dc2 = preproc(dc1)\n",
    "dc2.tail()"
   ]
  },
  {
   "cell_type": "code",
   "execution_count": 254,
   "metadata": {},
   "outputs": [
    {
     "data": {
      "text/plain": [
       "<matplotlib.axes._subplots.AxesSubplot at 0x7f9521081da0>"
      ]
     },
     "execution_count": 254,
     "metadata": {},
     "output_type": "execute_result"
    },
    {
     "data": {
      "image/png": "[encoded data removed]",
      "text/plain": [
       "<matplotlib.figure.Figure at 0x7f9521962cc0>"
      ]
     },
     "metadata": {},
     "output_type": "display_data"
    }
   ],
   "source": [
    "import seaborn as sns\n",
    "\n",
    "fig, ax = plt.subplots(figsize=(15,15) )\n",
    "\n",
    "corr = dc2.corr()\n",
    "sns.heatmap(corr, \n",
    "            xticklabels=corr.columns.values,\n",
    "            yticklabels=corr.columns.values, ax=ax)"
   ]
  },
  {
   "cell_type": "code",
   "execution_count": null,
   "metadata": {
    "collapsed": true
   },
   "outputs": [],
   "source": [
    "contin_vars = [c+str(i) for i in range(1,6) for c in [\n",
    "    'PrevResultn',      \n",
    "    'PrevFor',           \n",
    "    'PrevAga',           \n",
    "    'PrevDiff',         \n",
    "    'PrevTries',         \n",
    "    'PrevConv',          \n",
    "    'PrevPens',          \n",
    "    'PrevDrop',          \n",
    "    'PrevYear' ,         \n",
    "    'PrevMonth' ,        \n",
    "    'PrevDay',\n",
    "    'PrevHome']]\n",
    "  \n",
    "cat_vars = [c+str(i) for i in range(1,6) for c in ['PrevOpposition','PrevGround']]\n",
    "\n",
    "keep_vars = [\n",
    "    'Team',\n",
    "    'Opposition',     \n",
    "    'Ground',         \n",
    "    'Match Date',       \n",
    "    'Date',           \n",
    "    'Year',        \n",
    "    'Month',          \n",
    "    'Week',             \n",
    "    'Day' ,            \n",
    "    'Home']"
   ]
  },
  {
   "cell_type": "code",
   "execution_count": null,
   "metadata": {
    "collapsed": true
   },
   "outputs": [],
   "source": [
    "all_vars = keep_vars + cat_vars + contin_vars "
   ]
  },
  {
   "cell_type": "code",
   "execution_count": null,
   "metadata": {
    "collapsed": true
   },
   "outputs": [],
   "source": [
    "import random \n",
    "import xgboost as xgb\n",
    "\n",
    "\n",
    "def split_train_test(df):\n",
    "#try train/dev/test split of 80/20\n",
    "    n = len(df)\n",
    "    dfx = df.sort_values(['Date'])\n",
    "    train, test = int(.8*n), int(.2*n)\n",
    "    dfk = dfx[cat_vars+contin_vars+keep_vars]\n",
    "    test, valid, train = dfk[:test_n], dfk[test_n:val_n], dfk[val_n:]\n",
    "    y_test, y_valid, y_train  =  dfx.Aga[:test_n], dfx.Aga[test_n:val_n], dfx.Aga[val_n:]\n",
    "    return (train,y_train), (valid,y_valid), (test, y_test)\n",
    "\n",
    "xgb_parms = {'learning_rate': 0.1, 'subsample': 0.6, \n",
    "             'colsample_bylevel': 0.6, 'silent': True, 'objective': 'reg:linear'}\n",
    "\n",
    "\n",
    "train_data, valid_data, test_data = split_train_test(dc2)\n",
    "\n",
    "\n",
    "xdata_train = xgb.DMatrix(train_data[0], train_data[1], feature_names=all_vars)\n",
    "xdata_valid = xgb.DMatrix(valid_data[0], valid_data[1], feature_names=all_vars)\n",
    "xgb_parms['seed'] = random.randint(0,1e9)\n",
    "model_imp = xgb.train(xgb_parms, xdata_train)"
   ]
  },
  {
   "cell_type": "code",
   "execution_count": null,
   "metadata": {},
   "outputs": [],
   "source": [
    "\n",
    "fig, ax = plt.subplots(figsize=(12,18))\n",
    "xgb.plot_importance(model_imp, max_num_features=100, height=0.8, ax=ax)\n",
    "plt.show()"
   ]
  },
  {
   "cell_type": "code",
   "execution_count": 247,
   "metadata": {},
   "outputs": [],
   "source": [
    "from sklearn.model_selection import TimeSeriesSplit, GridSearchCV\n",
    "from sklearn.metrics import r2_score\n",
    " \n",
    "dfx = dc2.sort_values(['Date'])\n",
    "\n",
    "n = int(len(dfx)*.8)\n",
    "train, test = dfx[:n], dfx[n:]\n",
    "\n",
    "\n",
    "X_train = train[all_vars]\n",
    "y_train = train.For\n",
    "    \n",
    "    \n",
    "X_test = test[all_vars]\n",
    "y_test = test.For    \n",
    "    \n"
   ]
  },
  {
   "cell_type": "code",
   "execution_count": 250,
   "metadata": {},
   "outputs": [
    {
     "data": {
      "text/plain": [
       "[<matplotlib.lines.Line2D at 0x7f94ca42c470>]"
      ]
     },
     "execution_count": 250,
     "metadata": {},
     "output_type": "execute_result"
    },
    {
     "data": {
      "image/png": "[encoded data removed]",
      "text/plain": [
       "<matplotlib.figure.Figure at 0x7f94cb52e278>"
      ]
     },
     "metadata": {},
     "output_type": "display_data"
    }
   ],
   "source": [
    "from sklearn.ensemble import RandomForestRegressor\n",
    "from sklearn.linear_model import ElasticNet\n",
    "from sklearn.ensemble import GradientBoostingRegressor\n",
    "\n",
    "\n",
    "models = []\n",
    "\n",
    "models.append((\"Elastic Net\",ElasticNet(random_state=0)))\n",
    "models.append((\"SVC\",SVC()))\n",
    "models.append((\"LinearSVC\",LinearSVC()))\n",
    "models.append((\"KNeighbors\",KNeighborsClassifier()))\n",
    "models.append((\"RandomForestRegressor\",RandomForestRegressor(max_depth=2, random_state=0)))\n",
    "models.append((\"MLPClassifier\",MLPClassifier(solver='lbfgs', random_state=0)))\n",
    "\n",
    "\n",
    "results = []\n",
    "names = []\n",
    "for name,model in models:\n",
    "    result = cross_val_score(model, X_train, y_train,  cv=10)\n",
    "    names.append(name)\n",
    "    results.append(result)\n",
    "\n",
    "for i in range(len(names)):\n",
    "    print(names[i],results[i].mean())"
   ]
  },
  {
   "cell_type": "code",
   "execution_count": null,
   "metadata": {
    "collapsed": true
   },
   "outputs": [],
   "source": [
    "model = xgb.XGBRegressor()\n",
    "param_search = {\n",
    "    # Parameters that we are going to tune.\n",
    "    'max_depth':[2,4,8,16,32,64]\n",
    "    'min_child_weight': [.1,1,10],\n",
    "    'eta':.3,\n",
    "    'subsample': 1,\n",
    "    'colsample_bytree': 1,\n",
    "    # Other parameters\n",
    "    'objective':'reg:linear',\n",
    "}\n"
   ]
  },
  {
   "cell_type": "code",
   "execution_count": null,
   "metadata": {
    "collapsed": true
   },
   "outputs": [],
   "source": [
    "model = xgb.XGBRegressor()\n",
    "param_search = {'max_depth' : [3, 5]}\n",
    "\n",
    "my_cv = TimeSeriesSplit(n_splits=10)\n",
    "gsearch = GridSearchCV(estimator=model, cv=my_cv,\n",
    "                        param_grid=param_search)\n",
    "\n"
   ]
  },
  {
   "cell_type": "code",
   "execution_count": 227,
   "metadata": {},
   "outputs": [
    {
     "data": {
      "text/plain": [
       "'[0]\\teval-rmse:14.559711'"
      ]
     },
     "execution_count": 227,
     "metadata": {},
     "output_type": "execute_result"
    }
   ],
   "source": [
    "\n",
    "#Needed for Xgboost    \n",
    "xtrain = xgb.DMatrix(X_train, y_train, feature_names=all_vars)    \n",
    "xtest =xgb.DMatrix(X_test, y_test, feature_names=all_vars)    \n",
    "xgb_parms = {'learning_rate': 0.1, 'subsample': 0.6, \n",
    "             'colsample_bylevel': 0.6, 'silent': True, 'objective': 'reg:linear'}\n",
    "xgb_parms['seed'] = random.randint(0,1e9)\n",
    "model = xgb.train(xgb_parms, xtrain)\n",
    "model.eval(xtest)"
   ]
  },
  {
   "cell_type": "code",
   "execution_count": 230,
   "metadata": {},
   "outputs": [
    {
     "name": "stdout",
     "output_type": "stream",
     "text": [
      "R-squared 0.9987\n",
      "Adjusted r-squared 0.9979\n"
     ]
    }
   ],
   "source": [
    "\n",
    "\n",
    "model = xgb.XGBRegressor()\n",
    "param_search = {'max_depth' : [3, 5]}\n",
    "\n",
    "my_cv = TimeSeriesSplit(n_splits=10)\n",
    "gsearch = GridSearchCV(estimator=model, cv=my_cv,\n",
    "                        param_grid=param_search)\n",
    "\n",
    "\n",
    "gsearch.fit(X_train, y_train)\n",
    "\n",
    "\n",
    "#X = test[all_vars]\n",
    "#y = test.For\n",
    "r2 = r2_score( y, gsearch.best_estimator_.predict(X_train))\n",
    "\n",
    "\n",
    "def adj_r2(r2, nrow, ncol):\n",
    "    return 1-(((1-r2)*(nrow-1))/(nrow-ncol-1))\n",
    "    \n",
    "print(\"R-squared {:.4f}\".format(r2))\n",
    "print(\"Adjusted r-squared {:.4f}\".format(adj_r2(r2,len(y),len(X.columns))))\n",
    "\n",
    "\n"
   ]
  },
  {
   "cell_type": "code",
   "execution_count": 244,
   "metadata": {},
   "outputs": [
    {
     "data": {
      "text/plain": [
       "25365"
      ]
     },
     "execution_count": 244,
     "metadata": {},
     "output_type": "execute_result"
    }
   ],
   "source": [
    "\n",
    "from sklearn.preprocessing import Imputer \n",
    "imp = Imputer()\n",
    "dfy = pd.DataFrame(imp.fit_transform(dfx.values))\n",
    "\n",
    "#cat_maps = [(o, LabelEncoder()) for o in cat_vars]\n",
    "#contin_maps = [([o], StandardScaler()) for o in contin_vars]\n",
    "\n",
    "#cat_mapper = DataFrameMapper(cat_maps)\n",
    "#cat_map_fit = cat_mapper.fit(dfy)\n",
    "\n",
    "#contin_mapper = DataFrameMapper(contin_maps)\n",
    "#contin_map_fit = contin_mapper.fit(dfy)\n"
   ]
  },
  {
   "cell_type": "code",
   "execution_count": 231,
   "metadata": {
    "collapsed": true
   },
   "outputs": [],
   "source": [
    "def my_init(scale):\n",
    "    return lambda shape, name=None: initializations.uniform(shape, scale=scale, name=name)\n",
    "\n",
    "def emb_init(shape, name=None): \n",
    "    return initializations.uniform(shape, scale=2/(shape[1]+1), name=name)\n",
    "\n",
    "def get_emb(feat):\n",
    "    name, c = cat_map_info(feat)\n",
    "    #c2 = cat_var_dict[name]\n",
    "    c2 = (c+1)//2\n",
    "    if c2>50: c2=50\n",
    "    inp = Input((1,), dtype='int64', name=name+'_in')\n",
    "    # , W_regularizer=l2(1e-6)\n",
    "    u = Flatten(name=name+'_flt')(Embedding(c, c2, input_length=1, init=emb_init)(inp))\n",
    "#     u = Flatten(name=name+'_flt')(Embedding(c, c2, input_length=1)(inp))\n",
    "    return inp,u\n",
    "\n",
    "\n",
    "def get_contin(feat):\n",
    "    name = feat[0][0]\n",
    "    inp = Input((1,), name=name+'_in')\n",
    "    return inp, Dense(1, name=name+'_d', init=my_init(1.))(inp)"
   ]
  },
  {
   "cell_type": "code",
   "execution_count": 234,
   "metadata": {},
   "outputs": [
    {
     "ename": "NameError",
     "evalue": "name 'cat_map_fit' is not defined",
     "output_type": "error",
     "traceback": [
      "\u001b[0;31m---------------------------------------------------------------------------\u001b[0m",
      "\u001b[0;31mNameError\u001b[0m                                 Traceback (most recent call last)",
      "\u001b[0;32m<ipython-input-234-e1c9de81c1aa>\u001b[0m in \u001b[0;36m<module>\u001b[0;34m()\u001b[0m\n\u001b[1;32m      1\u001b[0m \u001b[0;32mimport\u001b[0m \u001b[0mkeras\u001b[0m\u001b[0;34m\u001b[0m\u001b[0m\n\u001b[1;32m      2\u001b[0m \u001b[0;34m\u001b[0m\u001b[0m\n\u001b[0;32m----> 3\u001b[0;31m \u001b[0membs\u001b[0m \u001b[0;34m=\u001b[0m \u001b[0;34m[\u001b[0m\u001b[0mget_emb\u001b[0m\u001b[0;34m(\u001b[0m\u001b[0mfeat\u001b[0m\u001b[0;34m)\u001b[0m \u001b[0;32mfor\u001b[0m \u001b[0mfeat\u001b[0m \u001b[0;32min\u001b[0m \u001b[0mcat_map_fit\u001b[0m\u001b[0;34m.\u001b[0m\u001b[0mfeatures\u001b[0m\u001b[0;34m]\u001b[0m\u001b[0;34m\u001b[0m\u001b[0m\n\u001b[0m\u001b[1;32m      4\u001b[0m \u001b[0;31m#conts = [get_contin(feat) for feat in contin_map_fit.features]\u001b[0m\u001b[0;34m\u001b[0m\u001b[0;34m\u001b[0m\u001b[0m\n\u001b[1;32m      5\u001b[0m \u001b[0;31m#contin_d = [d for inp,d in conts]\u001b[0m\u001b[0;34m\u001b[0m\u001b[0;34m\u001b[0m\u001b[0m\n",
      "\u001b[0;31mNameError\u001b[0m: name 'cat_map_fit' is not defined"
     ]
    }
   ],
   "source": [
    "import keras\n",
    "\n",
    "embs = [get_emb(feat) for feat in cat_map_fit.features]\n",
    "#conts = [get_contin(feat) for feat in contin_map_fit.features]\n",
    "#contin_d = [d for inp,d in conts]\n",
    "x = merge([emb for inp,emb in embs] + [contin_out], mode='concat')\n",
    "#x = merge([emb for inp,emb in embs] + contin_d, mode='concat')\n",
    "\n",
    "x = Dropout(0.02)(x)\n",
    "x = Dense(1000, activation='relu', init='uniform')(x)\n",
    "x = Dense(500, activation='relu', init='uniform')(x)\n",
    "x = Dropout(0.2)(x)\n",
    "x = Dense(1, activation='sigmoid')(x)\n",
    "\n",
    "model = Model([inp for inp,emb in embs] + [contin_inp], x)\n",
    "#model = Model([inp for inp,emb in embs] + [inp for inp,d in conts], x)\n",
    "model.compile('adam', 'mean_absolute_error')\n",
    "#model.compile(Adam(), 'mse')"
   ]
  },
  {
   "cell_type": "code",
   "execution_count": 233,
   "metadata": {},
   "outputs": [
    {
     "ename": "NameError",
     "evalue": "name 'contin_map_fit' is not defined",
     "output_type": "error",
     "traceback": [
      "\u001b[0;31m---------------------------------------------------------------------------\u001b[0m",
      "\u001b[0;31mNameError\u001b[0m                                 Traceback (most recent call last)",
      "\u001b[0;32m<ipython-input-233-b2d89d91d2f0>\u001b[0m in \u001b[0;36m<module>\u001b[0;34m()\u001b[0m\n\u001b[1;32m      1\u001b[0m \u001b[0;34m\u001b[0m\u001b[0m\n\u001b[0;32m----> 2\u001b[0;31m \u001b[0mmodel_pkl\u001b[0m \u001b[0;34m=\u001b[0m \u001b[0mget_model_pkl\u001b[0m\u001b[0;34m(\u001b[0m\u001b[0;34m)\u001b[0m\u001b[0;34m\u001b[0m\u001b[0m\n\u001b[0m",
      "\u001b[0;32m<ipython-input-232-759450ed8649>\u001b[0m in \u001b[0;36mget_model_pkl\u001b[0;34m()\u001b[0m\n\u001b[1;32m      1\u001b[0m \u001b[0;32mimport\u001b[0m \u001b[0mkeras\u001b[0m\u001b[0;34m\u001b[0m\u001b[0m\n\u001b[1;32m      2\u001b[0m \u001b[0;32mdef\u001b[0m \u001b[0mget_model_pkl\u001b[0m\u001b[0;34m(\u001b[0m\u001b[0;34m)\u001b[0m\u001b[0;34m:\u001b[0m\u001b[0;34m\u001b[0m\u001b[0m\n\u001b[0;32m----> 3\u001b[0;31m     \u001b[0mconts\u001b[0m \u001b[0;34m=\u001b[0m \u001b[0;34m[\u001b[0m\u001b[0mget_contin_pkl\u001b[0m\u001b[0;34m(\u001b[0m\u001b[0mfeat\u001b[0m\u001b[0;34m)\u001b[0m \u001b[0;32mfor\u001b[0m \u001b[0mfeat\u001b[0m \u001b[0;32min\u001b[0m \u001b[0mcontin_map_fit\u001b[0m\u001b[0;34m.\u001b[0m\u001b[0mfeatures\u001b[0m\u001b[0;34m]\u001b[0m\u001b[0;34m\u001b[0m\u001b[0m\n\u001b[0m\u001b[1;32m      4\u001b[0m     \u001b[0membs\u001b[0m \u001b[0;34m=\u001b[0m \u001b[0;34m[\u001b[0m\u001b[0mget_emb_pkl\u001b[0m\u001b[0;34m(\u001b[0m\u001b[0mfeat\u001b[0m\u001b[0;34m)\u001b[0m \u001b[0;32mfor\u001b[0m \u001b[0mfeat\u001b[0m \u001b[0;32min\u001b[0m \u001b[0mcat_map_fit\u001b[0m\u001b[0;34m.\u001b[0m\u001b[0mfeatures\u001b[0m\u001b[0;34m]\u001b[0m\u001b[0;34m\u001b[0m\u001b[0m\n\u001b[1;32m      5\u001b[0m     \u001b[0mx\u001b[0m \u001b[0;34m=\u001b[0m \u001b[0mmerge\u001b[0m\u001b[0;34m(\u001b[0m\u001b[0;34m[\u001b[0m\u001b[0memb\u001b[0m \u001b[0;32mfor\u001b[0m \u001b[0minp\u001b[0m\u001b[0;34m,\u001b[0m\u001b[0memb\u001b[0m \u001b[0;32min\u001b[0m \u001b[0membs\u001b[0m\u001b[0;34m]\u001b[0m \u001b[0;34m+\u001b[0m \u001b[0;34m[\u001b[0m\u001b[0mcontin_out\u001b[0m\u001b[0;34m]\u001b[0m\u001b[0;34m,\u001b[0m \u001b[0mmode\u001b[0m\u001b[0;34m=\u001b[0m\u001b[0;34m'concat'\u001b[0m\u001b[0;34m)\u001b[0m\u001b[0;34m\u001b[0m\u001b[0m\n",
      "\u001b[0;31mNameError\u001b[0m: name 'contin_map_fit' is not defined"
     ]
    }
   ],
   "source": [
    "\n",
    "model_pkl = get_model_pkl()"
   ]
  },
  {
   "cell_type": "code",
   "execution_count": null,
   "metadata": {},
   "outputs": [],
   "source": [
    "dfx.tail()\n",
    "dc1.sort_values(['Date']).tail()\n"
   ]
  },
  {
   "cell_type": "code",
   "execution_count": 142,
   "metadata": {},
   "outputs": [
    {
     "data": {
      "text/plain": [
       "44    0\n",
       "46    0\n",
       "44    0\n",
       "47    0\n",
       "46    0\n",
       "Name: Year, dtype: int64"
      ]
     },
     "execution_count": 142,
     "metadata": {},
     "output_type": "execute_result"
    }
   ],
   "source": [
    "dc1.info()\n",
    "\n",
    "next_match = pd.DataFrame([['Scotland',\"\",None,None,None,None,None,None,None,\"v Wales\",\"Principality Stadium\",\"03 Feb 2018\"]], columns = dc1.columns)\n",
    "next_match.head()\n",
    "dc1 = dc1.append(next_match)"
   ]
  },
  {
   "cell_type": "code",
   "execution_count": 102,
   "metadata": {
    "collapsed": true
   },
   "outputs": [],
   "source": [
    "#for measuring training time\n",
    "from time import time \n",
    "\n",
    "\n",
    "\n",
    "def train_regressor(reg, X_train, y_train):\n",
    "\n",
    "    # Start the clock, train the classifier, then stop the clock\n",
    "    start = time()\n",
    "    reg.fit(X_train, y_train)\n",
    "    end = time()\n",
    "    \n",
    "    # Print the results\n",
    "    print (\"Trained model in {:.4f} seconds\".format(end - start))\n",
    "\n",
    "    \n",
    "def predict_labels(reg, features, target):\n",
    "\n",
    "    # Start the clock, make predictions, then stop the clock\n",
    "    start = time()\n",
    "    y_pred = reg.predict(features)\n",
    "    \n",
    "    end = time()\n",
    "    # Print and return results\n",
    "    print (\"Made predictions in {:.4f} seconds.\".format(end - start))\n",
    "    \n",
    "    return mean_squared_error(target, y_pred),y_pred\n",
    "\n",
    "\n",
    "def train_predict(reg, X_train, y_train, X_test, y_test):\n",
    "    ''' Train and predict using a classifer based on F1 score. '''\n",
    "    \n",
    "    # Indicate the classifier and the training set size\n",
    "    print (\"Training a {} using a training set size of {}. . .\".format(reg.__class__.__name__, len(X_train)))\n",
    "    \n",
    "    # Train the classifier\n",
    "    train_regressor(reg, X_train, y_train)\n",
    "    \n",
    "    # Print the results of prediction for both training and testing\n",
    "    rmse, pred = predict_labels(reg, X_train, y_train)\n",
    "\n",
    "    print (\"RMSE for training set: {:.4f} .\".format(rmse))\n",
    "    \n",
    "    rmse,pred = predict_labels(reg, X_test, y_test)\n",
    "    print (\"RMSE for test set: {:.4f} .\".format(rmse))\n",
    "    return (y_test, pred)\n"
   ]
  },
  {
   "cell_type": "code",
   "execution_count": 103,
   "metadata": {},
   "outputs": [
    {
     "name": "stdout",
     "output_type": "stream",
     "text": [
      "[0]\tvalidation_0-error:-16.5446\tvalidation_0-rmse:18.7223\tvalidation_1-error:-16.8214\tvalidation_1-rmse:19.2091\n",
      "[1]\tvalidation_0-error:-16.5446\tvalidation_0-rmse:17.363\tvalidation_1-error:-16.8214\tvalidation_1-rmse:17.8053\n",
      "[2]\tvalidation_0-error:-16.5446\tvalidation_0-rmse:16.1425\tvalidation_1-error:-16.8214\tvalidation_1-rmse:16.4497\n",
      "[3]\tvalidation_0-error:-16.5446\tvalidation_0-rmse:15.0596\tvalidation_1-error:-16.8214\tvalidation_1-rmse:15.3958\n",
      "[4]\tvalidation_0-error:-16.5446\tvalidation_0-rmse:14.1169\tvalidation_1-error:-16.8214\tvalidation_1-rmse:14.543\n",
      "[5]\tvalidation_0-error:-16.5446\tvalidation_0-rmse:13.2524\tvalidation_1-error:-16.8214\tvalidation_1-rmse:13.771\n",
      "[6]\tvalidation_0-error:-16.5446\tvalidation_0-rmse:12.5351\tvalidation_1-error:-16.8214\tvalidation_1-rmse:13.1733\n",
      "[7]\tvalidation_0-error:-16.5446\tvalidation_0-rmse:11.8754\tvalidation_1-error:-16.8214\tvalidation_1-rmse:12.6546\n",
      "[8]\tvalidation_0-error:-16.5446\tvalidation_0-rmse:11.2688\tvalidation_1-error:-16.8214\tvalidation_1-rmse:12.0765\n",
      "[9]\tvalidation_0-error:-16.5446\tvalidation_0-rmse:10.7854\tvalidation_1-error:-16.8214\tvalidation_1-rmse:11.7144\n",
      "[10]\tvalidation_0-error:-16.5446\tvalidation_0-rmse:10.2857\tvalidation_1-error:-16.8214\tvalidation_1-rmse:11.4623\n",
      "[11]\tvalidation_0-error:-16.5446\tvalidation_0-rmse:9.90441\tvalidation_1-error:-16.8214\tvalidation_1-rmse:11.2122\n",
      "[12]\tvalidation_0-error:-16.5446\tvalidation_0-rmse:9.52277\tvalidation_1-error:-16.8214\tvalidation_1-rmse:11.0214\n",
      "[13]\tvalidation_0-error:-16.5446\tvalidation_0-rmse:9.23457\tvalidation_1-error:-16.8214\tvalidation_1-rmse:10.8851\n",
      "[14]\tvalidation_0-error:-16.5446\tvalidation_0-rmse:8.93\tvalidation_1-error:-16.8214\tvalidation_1-rmse:10.812\n",
      "[15]\tvalidation_0-error:-16.5446\tvalidation_0-rmse:8.67462\tvalidation_1-error:-16.8214\tvalidation_1-rmse:10.7412\n",
      "[16]\tvalidation_0-error:-16.5446\tvalidation_0-rmse:8.39412\tvalidation_1-error:-16.8214\tvalidation_1-rmse:10.7285\n",
      "[17]\tvalidation_0-error:-16.5446\tvalidation_0-rmse:8.20272\tvalidation_1-error:-16.8214\tvalidation_1-rmse:10.6711\n",
      "[18]\tvalidation_0-error:-16.5446\tvalidation_0-rmse:8.05163\tvalidation_1-error:-16.8214\tvalidation_1-rmse:10.6536\n",
      "[19]\tvalidation_0-error:-16.5446\tvalidation_0-rmse:7.82353\tvalidation_1-error:-16.8214\tvalidation_1-rmse:10.6654\n",
      "[20]\tvalidation_0-error:-16.5446\tvalidation_0-rmse:7.69778\tvalidation_1-error:-16.8214\tvalidation_1-rmse:10.6552\n",
      "[21]\tvalidation_0-error:-16.5446\tvalidation_0-rmse:7.5662\tvalidation_1-error:-16.8214\tvalidation_1-rmse:10.6525\n",
      "[22]\tvalidation_0-error:-16.5446\tvalidation_0-rmse:7.3876\tvalidation_1-error:-16.8214\tvalidation_1-rmse:10.618\n",
      "[23]\tvalidation_0-error:-16.5446\tvalidation_0-rmse:7.22718\tvalidation_1-error:-16.8214\tvalidation_1-rmse:10.557\n",
      "[24]\tvalidation_0-error:-16.5446\tvalidation_0-rmse:7.14217\tvalidation_1-error:-16.8214\tvalidation_1-rmse:10.5627\n",
      "[25]\tvalidation_0-error:-16.5446\tvalidation_0-rmse:7.04922\tvalidation_1-error:-16.8214\tvalidation_1-rmse:10.5934\n",
      "[26]\tvalidation_0-error:-16.5446\tvalidation_0-rmse:6.90058\tvalidation_1-error:-16.8214\tvalidation_1-rmse:10.603\n",
      "[27]\tvalidation_0-error:-16.5446\tvalidation_0-rmse:6.79409\tvalidation_1-error:-16.8214\tvalidation_1-rmse:10.5853\n",
      "[28]\tvalidation_0-error:-16.5446\tvalidation_0-rmse:6.72027\tvalidation_1-error:-16.8214\tvalidation_1-rmse:10.6041\n",
      "[29]\tvalidation_0-error:-16.5446\tvalidation_0-rmse:6.61031\tvalidation_1-error:-16.8214\tvalidation_1-rmse:10.6654\n",
      "[30]\tvalidation_0-error:-16.5446\tvalidation_0-rmse:6.47405\tvalidation_1-error:-16.8214\tvalidation_1-rmse:10.6933\n",
      "[31]\tvalidation_0-error:-16.5446\tvalidation_0-rmse:6.41426\tvalidation_1-error:-16.8214\tvalidation_1-rmse:10.7381\n",
      "[32]\tvalidation_0-error:-16.5446\tvalidation_0-rmse:6.34562\tvalidation_1-error:-16.8214\tvalidation_1-rmse:10.7782\n",
      "[33]\tvalidation_0-error:-16.5446\tvalidation_0-rmse:6.29679\tvalidation_1-error:-16.8214\tvalidation_1-rmse:10.7945\n",
      "[34]\tvalidation_0-error:-16.5446\tvalidation_0-rmse:6.20074\tvalidation_1-error:-16.8214\tvalidation_1-rmse:10.8588\n",
      "[35]\tvalidation_0-error:-16.5446\tvalidation_0-rmse:6.13433\tvalidation_1-error:-16.8214\tvalidation_1-rmse:10.858\n",
      "[36]\tvalidation_0-error:-16.5446\tvalidation_0-rmse:6.05663\tvalidation_1-error:-16.8214\tvalidation_1-rmse:10.8435\n",
      "[37]\tvalidation_0-error:-16.5446\tvalidation_0-rmse:6.01269\tvalidation_1-error:-16.8214\tvalidation_1-rmse:10.8696\n",
      "[38]\tvalidation_0-error:-16.5446\tvalidation_0-rmse:5.94469\tvalidation_1-error:-16.8214\tvalidation_1-rmse:10.8016\n",
      "[39]\tvalidation_0-error:-16.5446\tvalidation_0-rmse:5.89621\tvalidation_1-error:-16.8214\tvalidation_1-rmse:10.8181\n",
      "[40]\tvalidation_0-error:-16.5446\tvalidation_0-rmse:5.84648\tvalidation_1-error:-16.8214\tvalidation_1-rmse:10.8262\n",
      "[41]\tvalidation_0-error:-16.5446\tvalidation_0-rmse:5.79613\tvalidation_1-error:-16.8214\tvalidation_1-rmse:10.8031\n",
      "[42]\tvalidation_0-error:-16.5446\tvalidation_0-rmse:5.75072\tvalidation_1-error:-16.8214\tvalidation_1-rmse:10.8343\n",
      "[43]\tvalidation_0-error:-16.5446\tvalidation_0-rmse:5.64784\tvalidation_1-error:-16.8214\tvalidation_1-rmse:10.8897\n",
      "[44]\tvalidation_0-error:-16.5446\tvalidation_0-rmse:5.61846\tvalidation_1-error:-16.8214\tvalidation_1-rmse:10.884\n",
      "[45]\tvalidation_0-error:-16.5446\tvalidation_0-rmse:5.5688\tvalidation_1-error:-16.8214\tvalidation_1-rmse:10.8806\n",
      "[46]\tvalidation_0-error:-16.5446\tvalidation_0-rmse:5.52704\tvalidation_1-error:-16.8214\tvalidation_1-rmse:10.8634\n",
      "[47]\tvalidation_0-error:-16.5446\tvalidation_0-rmse:5.48725\tvalidation_1-error:-16.8214\tvalidation_1-rmse:10.8841\n",
      "[48]\tvalidation_0-error:-16.5446\tvalidation_0-rmse:5.41247\tvalidation_1-error:-16.8214\tvalidation_1-rmse:10.8405\n",
      "[49]\tvalidation_0-error:-16.5446\tvalidation_0-rmse:5.37012\tvalidation_1-error:-16.8214\tvalidation_1-rmse:10.8904\n",
      "[50]\tvalidation_0-error:-16.5446\tvalidation_0-rmse:5.32901\tvalidation_1-error:-16.8214\tvalidation_1-rmse:10.9253\n",
      "[51]\tvalidation_0-error:-16.5446\tvalidation_0-rmse:5.2903\tvalidation_1-error:-16.8214\tvalidation_1-rmse:10.9029\n",
      "[52]\tvalidation_0-error:-16.5446\tvalidation_0-rmse:5.23051\tvalidation_1-error:-16.8214\tvalidation_1-rmse:10.8811\n",
      "[53]\tvalidation_0-error:-16.5446\tvalidation_0-rmse:5.18265\tvalidation_1-error:-16.8214\tvalidation_1-rmse:10.8663\n",
      "[54]\tvalidation_0-error:-16.5446\tvalidation_0-rmse:5.14502\tvalidation_1-error:-16.8214\tvalidation_1-rmse:10.8621\n",
      "[55]\tvalidation_0-error:-16.5446\tvalidation_0-rmse:5.07614\tvalidation_1-error:-16.8214\tvalidation_1-rmse:10.8748\n",
      "[56]\tvalidation_0-error:-16.5446\tvalidation_0-rmse:5.02834\tvalidation_1-error:-16.8214\tvalidation_1-rmse:10.8949\n",
      "[57]\tvalidation_0-error:-16.5446\tvalidation_0-rmse:4.97112\tvalidation_1-error:-16.8214\tvalidation_1-rmse:10.8716\n",
      "[58]\tvalidation_0-error:-16.5446\tvalidation_0-rmse:4.88167\tvalidation_1-error:-16.8214\tvalidation_1-rmse:10.8843\n",
      "[59]\tvalidation_0-error:-16.5446\tvalidation_0-rmse:4.83949\tvalidation_1-error:-16.8214\tvalidation_1-rmse:10.9263\n",
      "[60]\tvalidation_0-error:-16.5446\tvalidation_0-rmse:4.80643\tvalidation_1-error:-16.8214\tvalidation_1-rmse:10.8905\n",
      "[61]\tvalidation_0-error:-16.5446\tvalidation_0-rmse:4.72312\tvalidation_1-error:-16.8214\tvalidation_1-rmse:10.8983\n",
      "[62]\tvalidation_0-error:-16.5446\tvalidation_0-rmse:4.69887\tvalidation_1-error:-16.8214\tvalidation_1-rmse:10.8889\n",
      "[63]\tvalidation_0-error:-16.5446\tvalidation_0-rmse:4.65158\tvalidation_1-error:-16.8214\tvalidation_1-rmse:10.8876\n",
      "[64]\tvalidation_0-error:-16.5446\tvalidation_0-rmse:4.58249\tvalidation_1-error:-16.8214\tvalidation_1-rmse:10.9195\n",
      "[65]\tvalidation_0-error:-16.5446\tvalidation_0-rmse:4.54909\tvalidation_1-error:-16.8214\tvalidation_1-rmse:10.9326\n",
      "[66]\tvalidation_0-error:-16.5446\tvalidation_0-rmse:4.48636\tvalidation_1-error:-16.8214\tvalidation_1-rmse:10.98\n",
      "[67]\tvalidation_0-error:-16.5446\tvalidation_0-rmse:4.45102\tvalidation_1-error:-16.8214\tvalidation_1-rmse:10.9851\n",
      "[68]\tvalidation_0-error:-16.5446\tvalidation_0-rmse:4.42026\tvalidation_1-error:-16.8214\tvalidation_1-rmse:10.9529\n",
      "[69]\tvalidation_0-error:-16.5446\tvalidation_0-rmse:4.38273\tvalidation_1-error:-16.8214\tvalidation_1-rmse:10.9588\n",
      "[70]\tvalidation_0-error:-16.5446\tvalidation_0-rmse:4.35127\tvalidation_1-error:-16.8214\tvalidation_1-rmse:10.9656\n",
      "[71]\tvalidation_0-error:-16.5446\tvalidation_0-rmse:4.3166\tvalidation_1-error:-16.8214\tvalidation_1-rmse:10.9594\n",
      "[72]\tvalidation_0-error:-16.5446\tvalidation_0-rmse:4.28272\tvalidation_1-error:-16.8214\tvalidation_1-rmse:10.9789\n"
     ]
    },
    {
     "name": "stdout",
     "output_type": "stream",
     "text": [
      "[73]\tvalidation_0-error:-16.5446\tvalidation_0-rmse:4.24186\tvalidation_1-error:-16.8214\tvalidation_1-rmse:10.9615\n",
      "[74]\tvalidation_0-error:-16.5446\tvalidation_0-rmse:4.21216\tvalidation_1-error:-16.8214\tvalidation_1-rmse:10.9544\n",
      "[75]\tvalidation_0-error:-16.5446\tvalidation_0-rmse:4.18507\tvalidation_1-error:-16.8214\tvalidation_1-rmse:10.9476\n",
      "[76]\tvalidation_0-error:-16.5446\tvalidation_0-rmse:4.13342\tvalidation_1-error:-16.8214\tvalidation_1-rmse:10.9312\n",
      "[77]\tvalidation_0-error:-16.5446\tvalidation_0-rmse:4.10764\tvalidation_1-error:-16.8214\tvalidation_1-rmse:10.9534\n",
      "[78]\tvalidation_0-error:-16.5446\tvalidation_0-rmse:4.08103\tvalidation_1-error:-16.8214\tvalidation_1-rmse:10.9477\n",
      "[79]\tvalidation_0-error:-16.5446\tvalidation_0-rmse:4.05427\tvalidation_1-error:-16.8214\tvalidation_1-rmse:10.9288\n",
      "[80]\tvalidation_0-error:-16.5446\tvalidation_0-rmse:3.99783\tvalidation_1-error:-16.8214\tvalidation_1-rmse:10.97\n",
      "[81]\tvalidation_0-error:-16.5446\tvalidation_0-rmse:3.96943\tvalidation_1-error:-16.8214\tvalidation_1-rmse:10.9789\n",
      "[82]\tvalidation_0-error:-16.5446\tvalidation_0-rmse:3.93715\tvalidation_1-error:-16.8214\tvalidation_1-rmse:11.0255\n",
      "[83]\tvalidation_0-error:-16.5446\tvalidation_0-rmse:3.91273\tvalidation_1-error:-16.8214\tvalidation_1-rmse:11.0127\n",
      "[84]\tvalidation_0-error:-16.5446\tvalidation_0-rmse:3.86456\tvalidation_1-error:-16.8214\tvalidation_1-rmse:11.0549\n",
      "[85]\tvalidation_0-error:-16.5446\tvalidation_0-rmse:3.84212\tvalidation_1-error:-16.8214\tvalidation_1-rmse:11.0635\n",
      "[86]\tvalidation_0-error:-16.5446\tvalidation_0-rmse:3.81074\tvalidation_1-error:-16.8214\tvalidation_1-rmse:11.0319\n",
      "[87]\tvalidation_0-error:-16.5446\tvalidation_0-rmse:3.76485\tvalidation_1-error:-16.8214\tvalidation_1-rmse:11.0234\n",
      "[88]\tvalidation_0-error:-16.5446\tvalidation_0-rmse:3.74375\tvalidation_1-error:-16.8214\tvalidation_1-rmse:11.0154\n",
      "[89]\tvalidation_0-error:-16.5446\tvalidation_0-rmse:3.71627\tvalidation_1-error:-16.8214\tvalidation_1-rmse:11.0169\n",
      "[90]\tvalidation_0-error:-16.5446\tvalidation_0-rmse:3.68982\tvalidation_1-error:-16.8214\tvalidation_1-rmse:10.9792\n",
      "[91]\tvalidation_0-error:-16.5446\tvalidation_0-rmse:3.66304\tvalidation_1-error:-16.8214\tvalidation_1-rmse:11.0207\n",
      "[92]\tvalidation_0-error:-16.5446\tvalidation_0-rmse:3.61528\tvalidation_1-error:-16.8214\tvalidation_1-rmse:11.0016\n",
      "[93]\tvalidation_0-error:-16.5446\tvalidation_0-rmse:3.58291\tvalidation_1-error:-16.8214\tvalidation_1-rmse:10.9924\n",
      "[94]\tvalidation_0-error:-16.5446\tvalidation_0-rmse:3.51406\tvalidation_1-error:-16.8214\tvalidation_1-rmse:10.9674\n",
      "[95]\tvalidation_0-error:-16.5446\tvalidation_0-rmse:3.47829\tvalidation_1-error:-16.8214\tvalidation_1-rmse:10.9679\n",
      "[96]\tvalidation_0-error:-16.5446\tvalidation_0-rmse:3.4535\tvalidation_1-error:-16.8214\tvalidation_1-rmse:11.0166\n",
      "[97]\tvalidation_0-error:-16.5446\tvalidation_0-rmse:3.41813\tvalidation_1-error:-16.8214\tvalidation_1-rmse:11.007\n",
      "[98]\tvalidation_0-error:-16.5446\tvalidation_0-rmse:3.36725\tvalidation_1-error:-16.8214\tvalidation_1-rmse:11.0001\n",
      "[99]\tvalidation_0-error:-16.5446\tvalidation_0-rmse:3.31759\tvalidation_1-error:-16.8214\tvalidation_1-rmse:11.022\n",
      "\n",
      "Mean Square error\"  121.483660325\n"
     ]
    }
   ],
   "source": [
    "from xgboost import XGBRegressor# fit model no training data\n",
    "model = XGBRegressor()\n",
    "eval_set = [(train, y_train), (valid, y_valid)]\n",
    "model.fit(train, y_train, eval_metric=[\"error\", \"rmse\"], eval_set=eval_set, verbose=True)\n",
    "from sklearn.metrics import make_scorer, mean_squared_error\n",
    "# calculate the auc score\n",
    "preds = model.predict(valid)\n",
    "\n",
    "print('\\nMean Square error\" ', mean_squared_error(y_valid,preds))\n"
   ]
  },
  {
   "cell_type": "code",
   "execution_count": 281,
   "metadata": {},
   "outputs": [
    {
     "name": "stdout",
     "output_type": "stream",
     "text": [
      "[ 15.72047234]\n"
     ]
    }
   ],
   "source": [
    "pred=model.predict(test.head(1))\n",
    "print(pred)"
   ]
  },
  {
   "cell_type": "code",
   "execution_count": 105,
   "metadata": {},
   "outputs": [
    {
     "name": "stdout",
     "output_type": "stream",
     "text": [
      "Training a XGBRegressor using a training set size of 224. . .\n",
      "Trained model in 0.0850 seconds\n",
      "Made predictions in 0.0020 seconds.\n",
      "RMSE for training set: 11.0064 .\n",
      "Made predictions in 0.0011 seconds.\n",
      "RMSE for test set: 121.4837 .\n"
     ]
    },
    {
     "data": {
      "text/plain": [
       "[<matplotlib.lines.Line2D at 0x7f9531c0fba8>]"
      ]
     },
     "execution_count": 105,
     "metadata": {},
     "output_type": "execute_result"
    },
    {
     "data": {
      "image/png": "[encoded data removed]",
      "text/plain": [
       "<matplotlib.figure.Figure at 0x7f9531be1940>"
      ]
     },
     "metadata": {},
     "output_type": "display_data"
    }
   ],
   "source": [
    "from sklearn import linear_model\n",
    "\n",
    "# Initialize the three models (XGBoost is initialized later)\n",
    "reg_A = linear_model.ElasticNet\n",
    "reg_B = linear_model.BayesianRidge()\n",
    "#Boosting refers to this general problem of producing a very accurate prediction rule \n",
    "#by combining rough and moderately inaccurate rules-of-thumb\n",
    "reg_C = xgb.XGBRegressor(seed = 82)\n",
    "\n",
    "#train_predict(reg_A, train, y_train, valid, y_valid)\n",
    "\n",
    "#train_predict(reg_B, train, y_train, valid, y_valid)\n",
    "\n",
    "act, pred = train_predict(reg_C, train, y_train, valid, y_valid)\n",
    "pred[:5]\n",
    "a = [a for a in act]\n",
    "plt.plot(pred)"
   ]
  }
 ],
 "metadata": {
  "kernelspec": {
   "display_name": "Python 3",
   "language": "python",
   "name": "python3"
  },
  "language_info": {
   "codemirror_mode": {
    "name": "ipython",
    "version": 3
   },
   "file_extension": ".py",
   "mimetype": "text/x-python",
   "name": "python",
   "nbconvert_exporter": "python",
   "pygments_lexer": "ipython3",
   "version": "3.6.0"
  }
 },
 "nbformat": 4,
 "nbformat_minor": 2
}
